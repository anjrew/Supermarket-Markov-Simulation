{
 "cells": [
  {
   "cell_type": "code",
   "execution_count": 2,
   "metadata": {},
   "outputs": [],
   "source": [
    "import pandas as pd"
   ]
  },
  {
   "cell_type": "code",
   "execution_count": 3,
   "metadata": {},
   "outputs": [],
   "source": [
    "def get_data(path): return pd.read_csv(\n",
    "    path, sep=';', index_col='timestamp', parse_dates=True)\n",
    "\n",
    "\n",
    "data_frames = {\n",
    "    'monday': get_data('./data/monday.csv'),\n",
    "    'tuesday': get_data('./data/tuesday.csv'),\n",
    "    'wednesday': get_data('./data/wednesday.csv'),\n",
    "    'thursday':  get_data('./data/thursday.csv'),\n",
    "    'friday': get_data('./data/friday.csv')\n",
    "}\n"
   ]
  },
  {
   "cell_type": "code",
   "execution_count": 4,
   "metadata": {},
   "outputs": [
    {
     "data": {
      "text/html": [
       "<div>\n",
       "<style scoped>\n",
       "    .dataframe tbody tr th:only-of-type {\n",
       "        vertical-align: middle;\n",
       "    }\n",
       "\n",
       "    .dataframe tbody tr th {\n",
       "        vertical-align: top;\n",
       "    }\n",
       "\n",
       "    .dataframe thead th {\n",
       "        text-align: right;\n",
       "    }\n",
       "</style>\n",
       "<table border=\"1\" class=\"dataframe\">\n",
       "  <thead>\n",
       "    <tr style=\"text-align: right;\">\n",
       "      <th></th>\n",
       "      <th>customer_no</th>\n",
       "      <th>location</th>\n",
       "    </tr>\n",
       "    <tr>\n",
       "      <th>timestamp</th>\n",
       "      <th></th>\n",
       "      <th></th>\n",
       "    </tr>\n",
       "  </thead>\n",
       "  <tbody>\n",
       "    <tr>\n",
       "      <th>2019-09-02 07:03:00</th>\n",
       "      <td>monday_1</td>\n",
       "      <td>dairy</td>\n",
       "    </tr>\n",
       "    <tr>\n",
       "      <th>2019-09-02 07:03:00</th>\n",
       "      <td>monday_2</td>\n",
       "      <td>dairy</td>\n",
       "    </tr>\n",
       "    <tr>\n",
       "      <th>2019-09-02 07:04:00</th>\n",
       "      <td>monday_3</td>\n",
       "      <td>dairy</td>\n",
       "    </tr>\n",
       "    <tr>\n",
       "      <th>2019-09-02 07:04:00</th>\n",
       "      <td>monday_4</td>\n",
       "      <td>dairy</td>\n",
       "    </tr>\n",
       "    <tr>\n",
       "      <th>2019-09-02 07:04:00</th>\n",
       "      <td>monday_5</td>\n",
       "      <td>spices</td>\n",
       "    </tr>\n",
       "    <tr>\n",
       "      <th>...</th>\n",
       "      <td>...</td>\n",
       "      <td>...</td>\n",
       "    </tr>\n",
       "    <tr>\n",
       "      <th>2019-09-06 21:50:00</th>\n",
       "      <td>friday_1500</td>\n",
       "      <td>dairy</td>\n",
       "    </tr>\n",
       "    <tr>\n",
       "      <th>2019-09-06 21:50:00</th>\n",
       "      <td>friday_1507</td>\n",
       "      <td>checkout</td>\n",
       "    </tr>\n",
       "    <tr>\n",
       "      <th>2019-09-06 21:50:00</th>\n",
       "      <td>friday_1508</td>\n",
       "      <td>checkout</td>\n",
       "    </tr>\n",
       "    <tr>\n",
       "      <th>2019-09-06 21:50:00</th>\n",
       "      <td>friday_1509</td>\n",
       "      <td>drinks</td>\n",
       "    </tr>\n",
       "    <tr>\n",
       "      <th>2019-09-06 21:50:00</th>\n",
       "      <td>friday_1510</td>\n",
       "      <td>spices</td>\n",
       "    </tr>\n",
       "  </tbody>\n",
       "</table>\n",
       "<p>24877 rows × 2 columns</p>\n",
       "</div>"
      ],
      "text/plain": [
       "                     customer_no  location\n",
       "timestamp                                 \n",
       "2019-09-02 07:03:00     monday_1     dairy\n",
       "2019-09-02 07:03:00     monday_2     dairy\n",
       "2019-09-02 07:04:00     monday_3     dairy\n",
       "2019-09-02 07:04:00     monday_4     dairy\n",
       "2019-09-02 07:04:00     monday_5    spices\n",
       "...                          ...       ...\n",
       "2019-09-06 21:50:00  friday_1500     dairy\n",
       "2019-09-06 21:50:00  friday_1507  checkout\n",
       "2019-09-06 21:50:00  friday_1508  checkout\n",
       "2019-09-06 21:50:00  friday_1509    drinks\n",
       "2019-09-06 21:50:00  friday_1510    spices\n",
       "\n",
       "[24877 rows x 2 columns]"
      ]
     },
     "execution_count": 4,
     "metadata": {},
     "output_type": "execute_result"
    }
   ],
   "source": [
    "df = None\n",
    "for key in data_frames:\n",
    "    current_df = data_frames[key]\n",
    "    current_df['customer_no'] = current_df['customer_no'].map(lambda x: f'{key}_{x}')\n",
    "    \n",
    "    if df is None:\n",
    "        df = current_df\n",
    "    else: \n",
    "        df = pd.concat([df , current_df])\n",
    "df\n",
    "    "
   ]
  },
  {
   "cell_type": "markdown",
   "metadata": {},
   "source": [
    "# Add time elements to the dataframe"
   ]
  },
  {
   "cell_type": "code",
   "execution_count": 5,
   "metadata": {},
   "outputs": [
    {
     "data": {
      "text/html": [
       "<div>\n",
       "<style scoped>\n",
       "    .dataframe tbody tr th:only-of-type {\n",
       "        vertical-align: middle;\n",
       "    }\n",
       "\n",
       "    .dataframe tbody tr th {\n",
       "        vertical-align: top;\n",
       "    }\n",
       "\n",
       "    .dataframe thead th {\n",
       "        text-align: right;\n",
       "    }\n",
       "</style>\n",
       "<table border=\"1\" class=\"dataframe\">\n",
       "  <thead>\n",
       "    <tr style=\"text-align: right;\">\n",
       "      <th></th>\n",
       "      <th>customer_no</th>\n",
       "      <th>location</th>\n",
       "      <th>hour</th>\n",
       "      <th>minute</th>\n",
       "      <th>day_number</th>\n",
       "      <th>day</th>\n",
       "    </tr>\n",
       "    <tr>\n",
       "      <th>timestamp</th>\n",
       "      <th></th>\n",
       "      <th></th>\n",
       "      <th></th>\n",
       "      <th></th>\n",
       "      <th></th>\n",
       "      <th></th>\n",
       "    </tr>\n",
       "  </thead>\n",
       "  <tbody>\n",
       "    <tr>\n",
       "      <th>2019-09-02 07:03:00</th>\n",
       "      <td>monday_1</td>\n",
       "      <td>dairy</td>\n",
       "      <td>7</td>\n",
       "      <td>3</td>\n",
       "      <td>2</td>\n",
       "      <td>Monday</td>\n",
       "    </tr>\n",
       "    <tr>\n",
       "      <th>2019-09-02 07:03:00</th>\n",
       "      <td>monday_2</td>\n",
       "      <td>dairy</td>\n",
       "      <td>7</td>\n",
       "      <td>3</td>\n",
       "      <td>2</td>\n",
       "      <td>Monday</td>\n",
       "    </tr>\n",
       "    <tr>\n",
       "      <th>2019-09-02 07:04:00</th>\n",
       "      <td>monday_3</td>\n",
       "      <td>dairy</td>\n",
       "      <td>7</td>\n",
       "      <td>4</td>\n",
       "      <td>2</td>\n",
       "      <td>Monday</td>\n",
       "    </tr>\n",
       "    <tr>\n",
       "      <th>2019-09-02 07:04:00</th>\n",
       "      <td>monday_4</td>\n",
       "      <td>dairy</td>\n",
       "      <td>7</td>\n",
       "      <td>4</td>\n",
       "      <td>2</td>\n",
       "      <td>Monday</td>\n",
       "    </tr>\n",
       "    <tr>\n",
       "      <th>2019-09-02 07:04:00</th>\n",
       "      <td>monday_5</td>\n",
       "      <td>spices</td>\n",
       "      <td>7</td>\n",
       "      <td>4</td>\n",
       "      <td>2</td>\n",
       "      <td>Monday</td>\n",
       "    </tr>\n",
       "    <tr>\n",
       "      <th>...</th>\n",
       "      <td>...</td>\n",
       "      <td>...</td>\n",
       "      <td>...</td>\n",
       "      <td>...</td>\n",
       "      <td>...</td>\n",
       "      <td>...</td>\n",
       "    </tr>\n",
       "    <tr>\n",
       "      <th>2019-09-06 21:50:00</th>\n",
       "      <td>friday_1500</td>\n",
       "      <td>dairy</td>\n",
       "      <td>21</td>\n",
       "      <td>50</td>\n",
       "      <td>6</td>\n",
       "      <td>Friday</td>\n",
       "    </tr>\n",
       "    <tr>\n",
       "      <th>2019-09-06 21:50:00</th>\n",
       "      <td>friday_1507</td>\n",
       "      <td>checkout</td>\n",
       "      <td>21</td>\n",
       "      <td>50</td>\n",
       "      <td>6</td>\n",
       "      <td>Friday</td>\n",
       "    </tr>\n",
       "    <tr>\n",
       "      <th>2019-09-06 21:50:00</th>\n",
       "      <td>friday_1508</td>\n",
       "      <td>checkout</td>\n",
       "      <td>21</td>\n",
       "      <td>50</td>\n",
       "      <td>6</td>\n",
       "      <td>Friday</td>\n",
       "    </tr>\n",
       "    <tr>\n",
       "      <th>2019-09-06 21:50:00</th>\n",
       "      <td>friday_1509</td>\n",
       "      <td>drinks</td>\n",
       "      <td>21</td>\n",
       "      <td>50</td>\n",
       "      <td>6</td>\n",
       "      <td>Friday</td>\n",
       "    </tr>\n",
       "    <tr>\n",
       "      <th>2019-09-06 21:50:00</th>\n",
       "      <td>friday_1510</td>\n",
       "      <td>spices</td>\n",
       "      <td>21</td>\n",
       "      <td>50</td>\n",
       "      <td>6</td>\n",
       "      <td>Friday</td>\n",
       "    </tr>\n",
       "  </tbody>\n",
       "</table>\n",
       "<p>24877 rows × 6 columns</p>\n",
       "</div>"
      ],
      "text/plain": [
       "                     customer_no  location  hour  minute  day_number     day\n",
       "timestamp                                                                   \n",
       "2019-09-02 07:03:00     monday_1     dairy     7       3           2  Monday\n",
       "2019-09-02 07:03:00     monday_2     dairy     7       3           2  Monday\n",
       "2019-09-02 07:04:00     monday_3     dairy     7       4           2  Monday\n",
       "2019-09-02 07:04:00     monday_4     dairy     7       4           2  Monday\n",
       "2019-09-02 07:04:00     monday_5    spices     7       4           2  Monday\n",
       "...                          ...       ...   ...     ...         ...     ...\n",
       "2019-09-06 21:50:00  friday_1500     dairy    21      50           6  Friday\n",
       "2019-09-06 21:50:00  friday_1507  checkout    21      50           6  Friday\n",
       "2019-09-06 21:50:00  friday_1508  checkout    21      50           6  Friday\n",
       "2019-09-06 21:50:00  friday_1509    drinks    21      50           6  Friday\n",
       "2019-09-06 21:50:00  friday_1510    spices    21      50           6  Friday\n",
       "\n",
       "[24877 rows x 6 columns]"
      ]
     },
     "execution_count": 5,
     "metadata": {},
     "output_type": "execute_result"
    }
   ],
   "source": [
    "df['hour'] = df.index.hour\n",
    "df['minute'] = df.index.minute\n",
    "df['day_number'] = df.index.day\n",
    "df['day'] = df.index.day_name()\n",
    "df\n"
   ]
  },
  {
   "cell_type": "code",
   "execution_count": 6,
   "metadata": {},
   "outputs": [],
   "source": [
    "# df[df['day']].describe()"
   ]
  },
  {
   "cell_type": "markdown",
   "metadata": {},
   "source": [
    "## Total number of customers in each section"
   ]
  },
  {
   "cell_type": "code",
   "execution_count": 7,
   "metadata": {},
   "outputs": [
    {
     "data": {
      "text/html": [
       "<div>\n",
       "<style scoped>\n",
       "    .dataframe tbody tr th:only-of-type {\n",
       "        vertical-align: middle;\n",
       "    }\n",
       "\n",
       "    .dataframe tbody tr th {\n",
       "        vertical-align: top;\n",
       "    }\n",
       "\n",
       "    .dataframe thead th {\n",
       "        text-align: right;\n",
       "    }\n",
       "</style>\n",
       "<table border=\"1\" class=\"dataframe\">\n",
       "  <thead>\n",
       "    <tr style=\"text-align: right;\">\n",
       "      <th></th>\n",
       "      <th>customer_no</th>\n",
       "      <th>hour</th>\n",
       "      <th>minute</th>\n",
       "      <th>day_number</th>\n",
       "      <th>day</th>\n",
       "    </tr>\n",
       "    <tr>\n",
       "      <th>location</th>\n",
       "      <th></th>\n",
       "      <th></th>\n",
       "      <th></th>\n",
       "      <th></th>\n",
       "      <th></th>\n",
       "    </tr>\n",
       "  </thead>\n",
       "  <tbody>\n",
       "    <tr>\n",
       "      <th>checkout</th>\n",
       "      <td>7417</td>\n",
       "      <td>7417</td>\n",
       "      <td>7417</td>\n",
       "      <td>7417</td>\n",
       "      <td>7417</td>\n",
       "    </tr>\n",
       "    <tr>\n",
       "      <th>dairy</th>\n",
       "      <td>4679</td>\n",
       "      <td>4679</td>\n",
       "      <td>4679</td>\n",
       "      <td>4679</td>\n",
       "      <td>4679</td>\n",
       "    </tr>\n",
       "    <tr>\n",
       "      <th>drinks</th>\n",
       "      <td>3905</td>\n",
       "      <td>3905</td>\n",
       "      <td>3905</td>\n",
       "      <td>3905</td>\n",
       "      <td>3905</td>\n",
       "    </tr>\n",
       "    <tr>\n",
       "      <th>fruit</th>\n",
       "      <td>5122</td>\n",
       "      <td>5122</td>\n",
       "      <td>5122</td>\n",
       "      <td>5122</td>\n",
       "      <td>5122</td>\n",
       "    </tr>\n",
       "    <tr>\n",
       "      <th>spices</th>\n",
       "      <td>3754</td>\n",
       "      <td>3754</td>\n",
       "      <td>3754</td>\n",
       "      <td>3754</td>\n",
       "      <td>3754</td>\n",
       "    </tr>\n",
       "  </tbody>\n",
       "</table>\n",
       "</div>"
      ],
      "text/plain": [
       "          customer_no  hour  minute  day_number   day\n",
       "location                                             \n",
       "checkout         7417  7417    7417        7417  7417\n",
       "dairy            4679  4679    4679        4679  4679\n",
       "drinks           3905  3905    3905        3905  3905\n",
       "fruit            5122  5122    5122        5122  5122\n",
       "spices           3754  3754    3754        3754  3754"
      ]
     },
     "execution_count": 7,
     "metadata": {},
     "output_type": "execute_result"
    }
   ],
   "source": [
    "df.groupby('location').count()\n"
   ]
  },
  {
   "cell_type": "markdown",
   "metadata": {},
   "source": [
    "## Total number of customers in each section over time"
   ]
  },
  {
   "cell_type": "code",
   "execution_count": 8,
   "metadata": {},
   "outputs": [
    {
     "data": {
      "text/html": [
       "<div>\n",
       "<style scoped>\n",
       "    .dataframe tbody tr th:only-of-type {\n",
       "        vertical-align: middle;\n",
       "    }\n",
       "\n",
       "    .dataframe tbody tr th {\n",
       "        vertical-align: top;\n",
       "    }\n",
       "\n",
       "    .dataframe thead th {\n",
       "        text-align: right;\n",
       "    }\n",
       "</style>\n",
       "<table border=\"1\" class=\"dataframe\">\n",
       "  <thead>\n",
       "    <tr style=\"text-align: right;\">\n",
       "      <th></th>\n",
       "      <th></th>\n",
       "      <th>customer_no</th>\n",
       "      <th>minute</th>\n",
       "      <th>day_number</th>\n",
       "      <th>day</th>\n",
       "    </tr>\n",
       "    <tr>\n",
       "      <th>location</th>\n",
       "      <th>hour</th>\n",
       "      <th></th>\n",
       "      <th></th>\n",
       "      <th></th>\n",
       "      <th></th>\n",
       "    </tr>\n",
       "  </thead>\n",
       "  <tbody>\n",
       "    <tr>\n",
       "      <th rowspan=\"5\" valign=\"top\">checkout</th>\n",
       "      <th>7</th>\n",
       "      <td>454</td>\n",
       "      <td>454</td>\n",
       "      <td>454</td>\n",
       "      <td>454</td>\n",
       "    </tr>\n",
       "    <tr>\n",
       "      <th>8</th>\n",
       "      <td>677</td>\n",
       "      <td>677</td>\n",
       "      <td>677</td>\n",
       "      <td>677</td>\n",
       "    </tr>\n",
       "    <tr>\n",
       "      <th>9</th>\n",
       "      <td>455</td>\n",
       "      <td>455</td>\n",
       "      <td>455</td>\n",
       "      <td>455</td>\n",
       "    </tr>\n",
       "    <tr>\n",
       "      <th>10</th>\n",
       "      <td>427</td>\n",
       "      <td>427</td>\n",
       "      <td>427</td>\n",
       "      <td>427</td>\n",
       "    </tr>\n",
       "    <tr>\n",
       "      <th>11</th>\n",
       "      <td>342</td>\n",
       "      <td>342</td>\n",
       "      <td>342</td>\n",
       "      <td>342</td>\n",
       "    </tr>\n",
       "    <tr>\n",
       "      <th>...</th>\n",
       "      <th>...</th>\n",
       "      <td>...</td>\n",
       "      <td>...</td>\n",
       "      <td>...</td>\n",
       "      <td>...</td>\n",
       "    </tr>\n",
       "    <tr>\n",
       "      <th rowspan=\"5\" valign=\"top\">spices</th>\n",
       "      <th>17</th>\n",
       "      <td>269</td>\n",
       "      <td>269</td>\n",
       "      <td>269</td>\n",
       "      <td>269</td>\n",
       "    </tr>\n",
       "    <tr>\n",
       "      <th>18</th>\n",
       "      <td>346</td>\n",
       "      <td>346</td>\n",
       "      <td>346</td>\n",
       "      <td>346</td>\n",
       "    </tr>\n",
       "    <tr>\n",
       "      <th>19</th>\n",
       "      <td>389</td>\n",
       "      <td>389</td>\n",
       "      <td>389</td>\n",
       "      <td>389</td>\n",
       "    </tr>\n",
       "    <tr>\n",
       "      <th>20</th>\n",
       "      <td>246</td>\n",
       "      <td>246</td>\n",
       "      <td>246</td>\n",
       "      <td>246</td>\n",
       "    </tr>\n",
       "    <tr>\n",
       "      <th>21</th>\n",
       "      <td>122</td>\n",
       "      <td>122</td>\n",
       "      <td>122</td>\n",
       "      <td>122</td>\n",
       "    </tr>\n",
       "  </tbody>\n",
       "</table>\n",
       "<p>75 rows × 4 columns</p>\n",
       "</div>"
      ],
      "text/plain": [
       "               customer_no  minute  day_number  day\n",
       "location hour                                      \n",
       "checkout 7             454     454         454  454\n",
       "         8             677     677         677  677\n",
       "         9             455     455         455  455\n",
       "         10            427     427         427  427\n",
       "         11            342     342         342  342\n",
       "...                    ...     ...         ...  ...\n",
       "spices   17            269     269         269  269\n",
       "         18            346     346         346  346\n",
       "         19            389     389         389  389\n",
       "         20            246     246         246  246\n",
       "         21            122     122         122  122\n",
       "\n",
       "[75 rows x 4 columns]"
      ]
     },
     "execution_count": 8,
     "metadata": {},
     "output_type": "execute_result"
    }
   ],
   "source": [
    "df.groupby(['location', 'hour']).count()\n"
   ]
  },
  {
   "cell_type": "markdown",
   "metadata": {},
   "source": [
    "# Total amount of customers in the store at any given time"
   ]
  },
  {
   "cell_type": "code",
   "execution_count": 9,
   "metadata": {},
   "outputs": [
    {
     "data": {
      "text/html": [
       "<div>\n",
       "<style scoped>\n",
       "    .dataframe tbody tr th:only-of-type {\n",
       "        vertical-align: middle;\n",
       "    }\n",
       "\n",
       "    .dataframe tbody tr th {\n",
       "        vertical-align: top;\n",
       "    }\n",
       "\n",
       "    .dataframe thead th {\n",
       "        text-align: right;\n",
       "    }\n",
       "</style>\n",
       "<table border=\"1\" class=\"dataframe\">\n",
       "  <thead>\n",
       "    <tr style=\"text-align: right;\">\n",
       "      <th></th>\n",
       "      <th></th>\n",
       "      <th></th>\n",
       "      <th>customer_no</th>\n",
       "      <th>location</th>\n",
       "      <th>day_number</th>\n",
       "    </tr>\n",
       "    <tr>\n",
       "      <th>day</th>\n",
       "      <th>hour</th>\n",
       "      <th>minute</th>\n",
       "      <th></th>\n",
       "      <th></th>\n",
       "      <th></th>\n",
       "    </tr>\n",
       "  </thead>\n",
       "  <tbody>\n",
       "    <tr>\n",
       "      <th rowspan=\"5\" valign=\"top\">Friday</th>\n",
       "      <th rowspan=\"5\" valign=\"top\">7</th>\n",
       "      <th>0</th>\n",
       "      <td>3</td>\n",
       "      <td>3</td>\n",
       "      <td>3</td>\n",
       "    </tr>\n",
       "    <tr>\n",
       "      <th>1</th>\n",
       "      <td>3</td>\n",
       "      <td>3</td>\n",
       "      <td>3</td>\n",
       "    </tr>\n",
       "    <tr>\n",
       "      <th>2</th>\n",
       "      <td>3</td>\n",
       "      <td>3</td>\n",
       "      <td>3</td>\n",
       "    </tr>\n",
       "    <tr>\n",
       "      <th>3</th>\n",
       "      <td>3</td>\n",
       "      <td>3</td>\n",
       "      <td>3</td>\n",
       "    </tr>\n",
       "    <tr>\n",
       "      <th>4</th>\n",
       "      <td>3</td>\n",
       "      <td>3</td>\n",
       "      <td>3</td>\n",
       "    </tr>\n",
       "    <tr>\n",
       "      <th>...</th>\n",
       "      <th>...</th>\n",
       "      <th>...</th>\n",
       "      <td>...</td>\n",
       "      <td>...</td>\n",
       "      <td>...</td>\n",
       "    </tr>\n",
       "    <tr>\n",
       "      <th rowspan=\"5\" valign=\"top\">Wednesday</th>\n",
       "      <th rowspan=\"5\" valign=\"top\">21</th>\n",
       "      <th>45</th>\n",
       "      <td>5</td>\n",
       "      <td>5</td>\n",
       "      <td>5</td>\n",
       "    </tr>\n",
       "    <tr>\n",
       "      <th>46</th>\n",
       "      <td>4</td>\n",
       "      <td>4</td>\n",
       "      <td>4</td>\n",
       "    </tr>\n",
       "    <tr>\n",
       "      <th>47</th>\n",
       "      <td>4</td>\n",
       "      <td>4</td>\n",
       "      <td>4</td>\n",
       "    </tr>\n",
       "    <tr>\n",
       "      <th>48</th>\n",
       "      <td>3</td>\n",
       "      <td>3</td>\n",
       "      <td>3</td>\n",
       "    </tr>\n",
       "    <tr>\n",
       "      <th>49</th>\n",
       "      <td>4</td>\n",
       "      <td>4</td>\n",
       "      <td>4</td>\n",
       "    </tr>\n",
       "  </tbody>\n",
       "</table>\n",
       "<p>4363 rows × 3 columns</p>\n",
       "</div>"
      ],
      "text/plain": [
       "                       customer_no  location  day_number\n",
       "day       hour minute                                   \n",
       "Friday    7    0                 3         3           3\n",
       "               1                 3         3           3\n",
       "               2                 3         3           3\n",
       "               3                 3         3           3\n",
       "               4                 3         3           3\n",
       "...                            ...       ...         ...\n",
       "Wednesday 21   45                5         5           5\n",
       "               46                4         4           4\n",
       "               47                4         4           4\n",
       "               48                3         3           3\n",
       "               49                4         4           4\n",
       "\n",
       "[4363 rows x 3 columns]"
      ]
     },
     "execution_count": 9,
     "metadata": {},
     "output_type": "execute_result"
    }
   ],
   "source": [
    "minute_location_df = df.groupby([ 'day', 'hour', 'minute' ]).count()\n",
    "# minute_location_df.to_csv('./data/amount_of_customers_at_time.csv')\n",
    "# minute_location_df.index.names\n",
    "# minute_location_df.reset_index()\n",
    "minute_location_df\n",
    "# minute_location_df.loc['Tuesday', 12, 9]['customer_no']"
   ]
  },
  {
   "cell_type": "markdown",
   "metadata": {},
   "source": []
  },
  {
   "cell_type": "code",
   "execution_count": 10,
   "metadata": {},
   "outputs": [
    {
     "data": {
      "text/plain": [
       "array(['dairy', 'spices', 'fruit', 'checkout', 'drinks'], dtype=object)"
      ]
     },
     "execution_count": 10,
     "metadata": {},
     "output_type": "execute_result"
    }
   ],
   "source": [
    "locations = df['location'].unique()\n",
    "locations"
   ]
  },
  {
   "cell_type": "code",
   "execution_count": null,
   "metadata": {},
   "outputs": [],
   "source": [
    "\n",
    "        "
   ]
  },
  {
   "cell_type": "code",
   "execution_count": 11,
   "metadata": {},
   "outputs": [
    {
     "data": {
      "image/png": "[encoded data removed]",
      "text/plain": [
       "<Figure size 640x480 with 1 Axes>"
      ]
     },
     "metadata": {},
     "output_type": "display_data"
    }
   ],
   "source": [
    "# minute_location_df[minute_location_df['location'] == 'checkout']['minute'].rolling(1000).mean().plot()\n",
    "for location in locations:\n",
    "    df.query(f'location == \"{location}\"') \\\n",
    "    .groupby(['hour', 'minute']) \\\n",
    "    .count()['customer_no'] \\\n",
    "    .rolling(80) \\\n",
    "    .mean() \\\n",
    "    .plot(label=location, ylabel='Amount of Customers',legend=True)\n"
   ]
  },
  {
   "cell_type": "markdown",
   "metadata": {},
   "source": [
    "## Time each customer spent in the market"
   ]
  },
  {
   "cell_type": "code",
   "execution_count": 12,
   "metadata": {},
   "outputs": [],
   "source": [
    "def get_customer_time_in_market_for_day(name, cus_df):\n",
    "    max_hour = cus_df['hour'].max()\n",
    "    min_hour = cus_df['hour'].min()\n",
    "    max_minute = cus_df['minute'].max()\n",
    "    min_minute = cus_df['minute'].min()\n",
    "    mins_in_market = max_minute - min_minute\n",
    "    hour_in_market = max_hour - min_hour\n",
    "    hour_in_market = max_hour - min_hour\n",
    "    first_stop = cus_df.iloc[0]['location']\n",
    "    following_stop = None\n",
    "    try:\n",
    "        following_stop = cus_df.iloc[1]\n",
    "    except IndexError:\n",
    "        pass\n",
    "\n",
    "    return_df = pd.DataFrame({\n",
    "        'customer_no': [name],\n",
    "        'time_in_market_mins': [hour_in_market * 60 + mins_in_market],\n",
    "        'first_stop': [first_stop],\n",
    "        'following_stop': [following_stop['location'] if following_stop is not None else None]\n",
    "    }).set_index('customer_no')\n",
    "    return return_df\n",
    "\n",
    "\n",
    "customers_gr = df.groupby('customer_no')\n",
    "\n",
    "\n",
    "customers_df = None\n",
    "for name, custom_df in customers_gr:\n",
    "    current_df = get_customer_time_in_market_for_day(name, custom_df)\n",
    "    if customers_df is None:\n",
    "        customers_df = current_df\n",
    "    else:\n",
    "        customers_df = pd.concat([customers_df, current_df])\n"
   ]
  },
  {
   "cell_type": "markdown",
   "metadata": {},
   "source": [
    "## Total number of customers in the supermarket over time"
   ]
  },
  {
   "cell_type": "markdown",
   "metadata": {},
   "source": [
    "### Over a day"
   ]
  },
  {
   "cell_type": "code",
   "execution_count": 13,
   "metadata": {},
   "outputs": [
    {
     "data": {
      "text/html": [
       "<div>\n",
       "<style scoped>\n",
       "    .dataframe tbody tr th:only-of-type {\n",
       "        vertical-align: middle;\n",
       "    }\n",
       "\n",
       "    .dataframe tbody tr th {\n",
       "        vertical-align: top;\n",
       "    }\n",
       "\n",
       "    .dataframe thead th {\n",
       "        text-align: right;\n",
       "    }\n",
       "</style>\n",
       "<table border=\"1\" class=\"dataframe\">\n",
       "  <thead>\n",
       "    <tr style=\"text-align: right;\">\n",
       "      <th></th>\n",
       "      <th>time_in_market_mins</th>\n",
       "      <th>first_stop</th>\n",
       "      <th>following_stop</th>\n",
       "    </tr>\n",
       "    <tr>\n",
       "      <th>customer_no</th>\n",
       "      <th></th>\n",
       "      <th></th>\n",
       "      <th></th>\n",
       "    </tr>\n",
       "  </thead>\n",
       "  <tbody>\n",
       "    <tr>\n",
       "      <th>friday_1</th>\n",
       "      <td>5</td>\n",
       "      <td>dairy</td>\n",
       "      <td>spices</td>\n",
       "    </tr>\n",
       "    <tr>\n",
       "      <th>friday_10</th>\n",
       "      <td>5</td>\n",
       "      <td>fruit</td>\n",
       "      <td>checkout</td>\n",
       "    </tr>\n",
       "    <tr>\n",
       "      <th>friday_100</th>\n",
       "      <td>1</td>\n",
       "      <td>fruit</td>\n",
       "      <td>checkout</td>\n",
       "    </tr>\n",
       "    <tr>\n",
       "      <th>friday_1000</th>\n",
       "      <td>1</td>\n",
       "      <td>fruit</td>\n",
       "      <td>checkout</td>\n",
       "    </tr>\n",
       "    <tr>\n",
       "      <th>friday_1001</th>\n",
       "      <td>10</td>\n",
       "      <td>fruit</td>\n",
       "      <td>drinks</td>\n",
       "    </tr>\n",
       "    <tr>\n",
       "      <th>...</th>\n",
       "      <td>...</td>\n",
       "      <td>...</td>\n",
       "      <td>...</td>\n",
       "    </tr>\n",
       "    <tr>\n",
       "      <th>wednesday_995</th>\n",
       "      <td>112</td>\n",
       "      <td>fruit</td>\n",
       "      <td>dairy</td>\n",
       "    </tr>\n",
       "    <tr>\n",
       "      <th>wednesday_996</th>\n",
       "      <td>110</td>\n",
       "      <td>fruit</td>\n",
       "      <td>dairy</td>\n",
       "    </tr>\n",
       "    <tr>\n",
       "      <th>wednesday_997</th>\n",
       "      <td>105</td>\n",
       "      <td>dairy</td>\n",
       "      <td>spices</td>\n",
       "    </tr>\n",
       "    <tr>\n",
       "      <th>wednesday_998</th>\n",
       "      <td>6</td>\n",
       "      <td>dairy</td>\n",
       "      <td>fruit</td>\n",
       "    </tr>\n",
       "    <tr>\n",
       "      <th>wednesday_999</th>\n",
       "      <td>1</td>\n",
       "      <td>fruit</td>\n",
       "      <td>checkout</td>\n",
       "    </tr>\n",
       "  </tbody>\n",
       "</table>\n",
       "<p>7445 rows × 3 columns</p>\n",
       "</div>"
      ],
      "text/plain": [
       "               time_in_market_mins first_stop following_stop\n",
       "customer_no                                                 \n",
       "friday_1                         5      dairy         spices\n",
       "friday_10                        5      fruit       checkout\n",
       "friday_100                       1      fruit       checkout\n",
       "friday_1000                      1      fruit       checkout\n",
       "friday_1001                     10      fruit         drinks\n",
       "...                            ...        ...            ...\n",
       "wednesday_995                  112      fruit          dairy\n",
       "wednesday_996                  110      fruit          dairy\n",
       "wednesday_997                  105      dairy         spices\n",
       "wednesday_998                    6      dairy          fruit\n",
       "wednesday_999                    1      fruit       checkout\n",
       "\n",
       "[7445 rows x 3 columns]"
      ]
     },
     "execution_count": 13,
     "metadata": {},
     "output_type": "execute_result"
    },
    {
     "data": {
      "image/png": "[encoded data removed]",
      "text/plain": [
       "<Figure size 640x480 with 1 Axes>"
      ]
     },
     "metadata": {},
     "output_type": "display_data"
    }
   ],
   "source": [
    "customers_df.hist(bins=40)\n",
    "customers_df"
   ]
  },
  {
   "cell_type": "markdown",
   "metadata": {},
   "source": [
    "### Over a week"
   ]
  },
  {
   "cell_type": "code",
   "execution_count": 14,
   "metadata": {},
   "outputs": [
    {
     "data": {
      "text/plain": [
       "<AxesSubplot:xlabel='day'>"
      ]
     },
     "execution_count": 14,
     "metadata": {},
     "output_type": "execute_result"
    },
    {
     "data": {
      "image/png": "[encoded data removed]",
      "text/plain": [
       "<Figure size 640x480 with 1 Axes>"
      ]
     },
     "metadata": {},
     "output_type": "display_data"
    }
   ],
   "source": [
    "customers_gr = df.groupby('day').count()\n",
    "\n",
    "min_val = customers_gr[['customer_no']].min()\n",
    "max_val = customers_gr[['customer_no']].max()\n",
    "customers_gr[['customer_no']].plot.bar()\n"
   ]
  },
  {
   "cell_type": "markdown",
   "metadata": {},
   "source": [
    "##  The distribution of customers of their first visited section versus following sections"
   ]
  },
  {
   "cell_type": "code",
   "execution_count": 15,
   "metadata": {},
   "outputs": [
    {
     "data": {
      "text/plain": [
       "<AxesSubplot:xlabel='first_stop,following_stop'>"
      ]
     },
     "execution_count": 15,
     "metadata": {},
     "output_type": "execute_result"
    },
    {
     "data": {
      "image/png": "[encoded data removed]",
      "text/plain": [
       "<Figure size 640x480 with 1 Axes>"
      ]
     },
     "metadata": {},
     "output_type": "display_data"
    }
   ],
   "source": [
    "# customers_df.groupby(['first_stop', 'following_stop']).plot.bar()\n",
    "to_plot_df = customers_df.groupby(['first_stop', 'following_stop']).count()\n",
    "\n",
    "to_plot_df.plot.bar()\n"
   ]
  },
  {
   "cell_type": "code",
   "execution_count": 16,
   "metadata": {},
   "outputs": [
    {
     "data": {
      "text/plain": [
       "Timestamp('2019-09-06 21:50:00')"
      ]
     },
     "execution_count": 16,
     "metadata": {},
     "output_type": "execute_result"
    }
   ],
   "source": [
    "df.reset_index().iloc[-1]['timestamp']"
   ]
  },
  {
   "cell_type": "markdown",
   "metadata": {},
   "source": [
    "## Get Markov Probabilities"
   ]
  },
  {
   "cell_type": "code",
   "execution_count": 17,
   "metadata": {},
   "outputs": [],
   "source": [
    "def get_next_step(name, cus_df):\n",
    "    ## Add the first step\n",
    "    \n",
    "    cus_df = pd.concat([\n",
    "        pd.DataFrame({\n",
    "            'timestamp': [cus_df.reset_index().iloc[-1]['timestamp'] -pd.Timedelta(minutes=1)],\n",
    "            'customer_no': [name],\n",
    "            'location': ['entrance'],\n",
    "        }).set_index('timestamp'),\n",
    "        \n",
    "        custom_df,   \n",
    "        \n",
    "    ])\n",
    "    \n",
    "    \n",
    "    cus_df['next_location'] = cus_df['location'].shift(-1)\n",
    "\n",
    "    if len(cus_df[cus_df['location'] == 'checkout']) == 0:\n",
    "        cus_df = pd.concat([\n",
    "            \n",
    "            custom_df,   \n",
    "            \n",
    "            pd.DataFrame({\n",
    "                'timestamp': [cus_df.reset_index().iloc[-1]['timestamp'] + pd.Timedelta(minutes=1)],\n",
    "                'customer_no': [name],\n",
    "                'location': ['checkout'],\n",
    "                'next_location': ['exit']\n",
    "            }).set_index('timestamp')\n",
    "        ])\n",
    "        \n",
    "    else:\n",
    "\n",
    "        cus_df.loc[cus_df['location'] == 'checkout', 'next_location'] = 'exit'\n",
    "    return cus_df\n"
   ]
  },
  {
   "cell_type": "code",
   "execution_count": 18,
   "metadata": {},
   "outputs": [],
   "source": [
    "\n",
    "next_locations_df = None\n",
    "for name, custom_df in df.drop(['hour','minute','day'], axis=1).groupby('customer_no'):\n",
    "    current_df = get_next_step(name, custom_df)\n",
    "    if next_locations_df is None:\n",
    "        next_locations_df = current_df\n",
    "    else:\n",
    "        next_locations_df = pd.concat([next_locations_df, current_df])\n"
   ]
  },
  {
   "cell_type": "code",
   "execution_count": 19,
   "metadata": {},
   "outputs": [],
   "source": [
    "next_locations_df.to_csv('./data/customer_transitions.csv')"
   ]
  },
  {
   "cell_type": "markdown",
   "metadata": {},
   "source": [
    "# Can start from here after dataframe has been saved to file"
   ]
  },
  {
   "cell_type": "code",
   "execution_count": 20,
   "metadata": {},
   "outputs": [],
   "source": [
    "import pandas as pd\n",
    "next_locations_df = pd.read_csv('./data/customer_transitions.csv')"
   ]
  },
  {
   "cell_type": "code",
   "execution_count": 21,
   "metadata": {},
   "outputs": [
    {
     "data": {
      "text/html": [
       "<div>\n",
       "<style scoped>\n",
       "    .dataframe tbody tr th:only-of-type {\n",
       "        vertical-align: middle;\n",
       "    }\n",
       "\n",
       "    .dataframe tbody tr th {\n",
       "        vertical-align: top;\n",
       "    }\n",
       "\n",
       "    .dataframe thead th {\n",
       "        text-align: right;\n",
       "    }\n",
       "</style>\n",
       "<table border=\"1\" class=\"dataframe\">\n",
       "  <thead>\n",
       "    <tr style=\"text-align: right;\">\n",
       "      <th></th>\n",
       "      <th>timestamp</th>\n",
       "      <th>customer_no</th>\n",
       "      <th>location</th>\n",
       "      <th>day_number</th>\n",
       "      <th>next_location</th>\n",
       "    </tr>\n",
       "  </thead>\n",
       "  <tbody>\n",
       "    <tr>\n",
       "      <th>0</th>\n",
       "      <td>2019-09-06 07:04:00</td>\n",
       "      <td>friday_1</td>\n",
       "      <td>entrance</td>\n",
       "      <td>NaN</td>\n",
       "      <td>dairy</td>\n",
       "    </tr>\n",
       "    <tr>\n",
       "      <th>4</th>\n",
       "      <td>2019-09-06 07:10:00</td>\n",
       "      <td>friday_10</td>\n",
       "      <td>entrance</td>\n",
       "      <td>NaN</td>\n",
       "      <td>fruit</td>\n",
       "    </tr>\n",
       "    <tr>\n",
       "      <th>7</th>\n",
       "      <td>2019-09-06 08:03:00</td>\n",
       "      <td>friday_100</td>\n",
       "      <td>entrance</td>\n",
       "      <td>NaN</td>\n",
       "      <td>fruit</td>\n",
       "    </tr>\n",
       "    <tr>\n",
       "      <th>10</th>\n",
       "      <td>2019-09-06 17:19:00</td>\n",
       "      <td>friday_1000</td>\n",
       "      <td>entrance</td>\n",
       "      <td>NaN</td>\n",
       "      <td>fruit</td>\n",
       "    </tr>\n",
       "    <tr>\n",
       "      <th>13</th>\n",
       "      <td>2019-09-06 17:28:00</td>\n",
       "      <td>friday_1001</td>\n",
       "      <td>entrance</td>\n",
       "      <td>NaN</td>\n",
       "      <td>fruit</td>\n",
       "    </tr>\n",
       "    <tr>\n",
       "      <th>...</th>\n",
       "      <td>...</td>\n",
       "      <td>...</td>\n",
       "      <td>...</td>\n",
       "      <td>...</td>\n",
       "      <td>...</td>\n",
       "    </tr>\n",
       "    <tr>\n",
       "      <th>32298</th>\n",
       "      <td>2019-09-04 17:19:00</td>\n",
       "      <td>wednesday_995</td>\n",
       "      <td>entrance</td>\n",
       "      <td>NaN</td>\n",
       "      <td>fruit</td>\n",
       "    </tr>\n",
       "    <tr>\n",
       "      <th>32304</th>\n",
       "      <td>2019-09-04 17:02:00</td>\n",
       "      <td>wednesday_996</td>\n",
       "      <td>entrance</td>\n",
       "      <td>NaN</td>\n",
       "      <td>fruit</td>\n",
       "    </tr>\n",
       "    <tr>\n",
       "      <th>32308</th>\n",
       "      <td>2019-09-04 17:13:00</td>\n",
       "      <td>wednesday_997</td>\n",
       "      <td>entrance</td>\n",
       "      <td>NaN</td>\n",
       "      <td>dairy</td>\n",
       "    </tr>\n",
       "    <tr>\n",
       "      <th>32315</th>\n",
       "      <td>2019-09-04 16:58:00</td>\n",
       "      <td>wednesday_998</td>\n",
       "      <td>entrance</td>\n",
       "      <td>NaN</td>\n",
       "      <td>dairy</td>\n",
       "    </tr>\n",
       "    <tr>\n",
       "      <th>32319</th>\n",
       "      <td>2019-09-04 16:53:00</td>\n",
       "      <td>wednesday_999</td>\n",
       "      <td>entrance</td>\n",
       "      <td>NaN</td>\n",
       "      <td>fruit</td>\n",
       "    </tr>\n",
       "  </tbody>\n",
       "</table>\n",
       "<p>7417 rows × 5 columns</p>\n",
       "</div>"
      ],
      "text/plain": [
       "                 timestamp    customer_no  location  day_number next_location\n",
       "0      2019-09-06 07:04:00       friday_1  entrance         NaN         dairy\n",
       "4      2019-09-06 07:10:00      friday_10  entrance         NaN         fruit\n",
       "7      2019-09-06 08:03:00     friday_100  entrance         NaN         fruit\n",
       "10     2019-09-06 17:19:00    friday_1000  entrance         NaN         fruit\n",
       "13     2019-09-06 17:28:00    friday_1001  entrance         NaN         fruit\n",
       "...                    ...            ...       ...         ...           ...\n",
       "32298  2019-09-04 17:19:00  wednesday_995  entrance         NaN         fruit\n",
       "32304  2019-09-04 17:02:00  wednesday_996  entrance         NaN         fruit\n",
       "32308  2019-09-04 17:13:00  wednesday_997  entrance         NaN         dairy\n",
       "32315  2019-09-04 16:58:00  wednesday_998  entrance         NaN         dairy\n",
       "32319  2019-09-04 16:53:00  wednesday_999  entrance         NaN         fruit\n",
       "\n",
       "[7417 rows x 5 columns]"
      ]
     },
     "execution_count": 21,
     "metadata": {},
     "output_type": "execute_result"
    }
   ],
   "source": [
    "next_locations_df[next_locations_df['location'] =='entrance']\n",
    "\n"
   ]
  },
  {
   "cell_type": "code",
   "execution_count": 22,
   "metadata": {},
   "outputs": [
    {
     "data": {
      "text/html": [
       "<div>\n",
       "<style scoped>\n",
       "    .dataframe tbody tr th:only-of-type {\n",
       "        vertical-align: middle;\n",
       "    }\n",
       "\n",
       "    .dataframe tbody tr th {\n",
       "        vertical-align: top;\n",
       "    }\n",
       "\n",
       "    .dataframe thead th {\n",
       "        text-align: right;\n",
       "    }\n",
       "</style>\n",
       "<table border=\"1\" class=\"dataframe\">\n",
       "  <thead>\n",
       "    <tr style=\"text-align: right;\">\n",
       "      <th>next_location</th>\n",
       "      <th>checkout</th>\n",
       "      <th>dairy</th>\n",
       "      <th>drinks</th>\n",
       "      <th>exit</th>\n",
       "      <th>fruit</th>\n",
       "      <th>spices</th>\n",
       "    </tr>\n",
       "    <tr>\n",
       "      <th>location</th>\n",
       "      <th></th>\n",
       "      <th></th>\n",
       "      <th></th>\n",
       "      <th></th>\n",
       "      <th></th>\n",
       "      <th></th>\n",
       "    </tr>\n",
       "  </thead>\n",
       "  <tbody>\n",
       "    <tr>\n",
       "      <th>checkout</th>\n",
       "      <td>0.000000</td>\n",
       "      <td>0.000000</td>\n",
       "      <td>0.000000</td>\n",
       "      <td>1.0</td>\n",
       "      <td>0.000000</td>\n",
       "      <td>0.000000</td>\n",
       "    </tr>\n",
       "    <tr>\n",
       "      <th>dairy</th>\n",
       "      <td>0.392389</td>\n",
       "      <td>0.000000</td>\n",
       "      <td>0.222318</td>\n",
       "      <td>0.0</td>\n",
       "      <td>0.189852</td>\n",
       "      <td>0.195442</td>\n",
       "    </tr>\n",
       "    <tr>\n",
       "      <th>drinks</th>\n",
       "      <td>0.538956</td>\n",
       "      <td>0.027256</td>\n",
       "      <td>0.000000</td>\n",
       "      <td>0.0</td>\n",
       "      <td>0.217794</td>\n",
       "      <td>0.215994</td>\n",
       "    </tr>\n",
       "    <tr>\n",
       "      <th>entrance</th>\n",
       "      <td>0.000000</td>\n",
       "      <td>0.286639</td>\n",
       "      <td>0.153566</td>\n",
       "      <td>0.0</td>\n",
       "      <td>0.378050</td>\n",
       "      <td>0.181745</td>\n",
       "    </tr>\n",
       "    <tr>\n",
       "      <th>fruit</th>\n",
       "      <td>0.500784</td>\n",
       "      <td>0.236966</td>\n",
       "      <td>0.136417</td>\n",
       "      <td>0.0</td>\n",
       "      <td>0.000000</td>\n",
       "      <td>0.125833</td>\n",
       "    </tr>\n",
       "    <tr>\n",
       "      <th>spices</th>\n",
       "      <td>0.251672</td>\n",
       "      <td>0.323616</td>\n",
       "      <td>0.272800</td>\n",
       "      <td>0.0</td>\n",
       "      <td>0.151912</td>\n",
       "      <td>0.000000</td>\n",
       "    </tr>\n",
       "  </tbody>\n",
       "</table>\n",
       "</div>"
      ],
      "text/plain": [
       "next_location  checkout     dairy    drinks  exit     fruit    spices\n",
       "location                                                             \n",
       "checkout       0.000000  0.000000  0.000000   1.0  0.000000  0.000000\n",
       "dairy          0.392389  0.000000  0.222318   0.0  0.189852  0.195442\n",
       "drinks         0.538956  0.027256  0.000000   0.0  0.217794  0.215994\n",
       "entrance       0.000000  0.286639  0.153566   0.0  0.378050  0.181745\n",
       "fruit          0.500784  0.236966  0.136417   0.0  0.000000  0.125833\n",
       "spices         0.251672  0.323616  0.272800   0.0  0.151912  0.000000"
      ]
     },
     "execution_count": 22,
     "metadata": {},
     "output_type": "execute_result"
    }
   ],
   "source": [
    "P = pd.crosstab(\n",
    "    next_locations_df['location'], \n",
    "    next_locations_df['next_location'], normalize='index')\n",
    "P"
   ]
  },
  {
   "cell_type": "code",
   "execution_count": 1,
   "metadata": {},
   "outputs": [
    {
     "ename": "NameError",
     "evalue": "name 'P' is not defined",
     "output_type": "error",
     "traceback": [
      "\u001b[0;31m---------------------------------------------------------------------------\u001b[0m",
      "\u001b[0;31mNameError\u001b[0m                                 Traceback (most recent call last)",
      "\u001b[0;32m/var/folders/2d/jjks8mqd6wj1vm8dxd7jbnl80000gn/T/ipykernel_7360/3034674200.py\u001b[0m in \u001b[0;36m<module>\u001b[0;34m\u001b[0m\n\u001b[1;32m      1\u001b[0m \u001b[0;32mimport\u001b[0m \u001b[0mseaborn\u001b[0m \u001b[0;32mas\u001b[0m \u001b[0msns\u001b[0m\u001b[0;34m\u001b[0m\u001b[0;34m\u001b[0m\u001b[0m\n\u001b[0;32m----> 2\u001b[0;31m \u001b[0msns\u001b[0m\u001b[0;34m.\u001b[0m\u001b[0mheatmap\u001b[0m\u001b[0;34m(\u001b[0m\u001b[0mP\u001b[0m\u001b[0;34m.\u001b[0m\u001b[0mcorr\u001b[0m\u001b[0;34m(\u001b[0m\u001b[0;34m)\u001b[0m\u001b[0;34m)\u001b[0m\u001b[0;34m\u001b[0m\u001b[0;34m\u001b[0m\u001b[0m\n\u001b[0m",
      "\u001b[0;31mNameError\u001b[0m: name 'P' is not defined"
     ]
    }
   ],
   "source": [
    "import seaborn as sns\n",
    "sns.heatmap(P.corr())\n"
   ]
  },
  {
   "cell_type": "code",
   "execution_count": 18,
   "metadata": {},
   "outputs": [],
   "source": [
    "for k, row in P.iterrows():\n",
    "    row_sum = sum(row)\n",
    "    assert round(row_sum, 5) == 1, f'The sum of row was {row_sum}'"
   ]
  },
  {
   "cell_type": "markdown",
   "metadata": {},
   "source": [
    "## Create choice probabilities"
   ]
  },
  {
   "cell_type": "code",
   "execution_count": 19,
   "metadata": {},
   "outputs": [],
   "source": [
    "probs_dict = P.to_dict(orient='index')\n",
    "# probs_dict"
   ]
  },
  {
   "cell_type": "code",
   "execution_count": 20,
   "metadata": {},
   "outputs": [],
   "source": [
    "# convert internal values, which is a dict to a list\n",
    "probs = {}\n",
    "for key in probs_dict.keys():\n",
    "    probs[key] = list(probs_dict[key].values())\n",
    "# probs"
   ]
  },
  {
   "cell_type": "markdown",
   "metadata": {},
   "source": [
    "## Make simulation"
   ]
  },
  {
   "cell_type": "code",
   "execution_count": 21,
   "metadata": {},
   "outputs": [
    {
     "name": "stdout",
     "output_type": "stream",
     "text": [
      "entrance\n",
      "['checkout', 'dairy', 'drinks', 'exit', 'fruit', 'spices']\n",
      "[0.0, 0.2866388027504382, 0.15356613185924228, 0.0, 0.3780504247000135, 0.18174464069030605]\n"
     ]
    },
    {
     "data": {
      "text/plain": [
       "'fruit'"
      ]
     },
     "execution_count": 21,
     "metadata": {},
     "output_type": "execute_result"
    }
   ],
   "source": [
    "\n",
    "import random\n",
    "\n",
    "current_state = 'entrance'\n",
    "states = list(probs_dict[current_state].keys())\n",
    "states\n",
    "\n",
    "print(current_state)\n",
    "print(states)\n",
    "# print(probs.keys())\n",
    "print(probs[current_state])\n",
    "# print(probs)\n",
    "\n",
    "\n",
    "random.choices(states, weights=probs[current_state])[0]\n"
   ]
  },
  {
   "cell_type": "code",
   "execution_count": 22,
   "metadata": {},
   "outputs": [
    {
     "name": "stdout",
     "output_type": "stream",
     "text": [
      "Customer at entrance\n"
     ]
    }
   ],
   "source": [
    "\n",
    "# while current_state != 'exit':\n",
    "print('Customer at', current_state)\n",
    "state_probs = probs[current_state]\n",
    "\n",
    "choices = list(probs_dict[current_state].keys())\n",
    "current_state = random.choices(choices, weights=state_probs)[0]\n",
    "\n"
   ]
  },
  {
   "cell_type": "code",
   "execution_count": 23,
   "metadata": {},
   "outputs": [
    {
     "data": {
      "text/plain": [
       "array([0., 0., 0., 1., 0., 0.])"
      ]
     },
     "execution_count": 23,
     "metadata": {},
     "output_type": "execute_result"
    }
   ],
   "source": [
    "import numpy as np\n",
    "\n",
    "initial_state = np.array([1,\t0,\t0,\t0,\t0,\t0])\n",
    "np.dot(initial_state, P)"
   ]
  },
  {
   "cell_type": "code",
   "execution_count": 24,
   "metadata": {},
   "outputs": [],
   "source": [
    "import random\n",
    "\n",
    "TILE_SIZE = 32\n",
    "\n",
    "class Customer:\n",
    "    \"\"\"\n",
    "    a single customer that moves through the supermarket\n",
    "    in a MCMC simulation\n",
    "    \"\"\"\n",
    "    def __init__(self, name, supermarket, avatar_id, row=0, col=0, initial_state='entrance'):\n",
    "        \"\"\"\n",
    "        supermarket: A SuperMarketMap object\n",
    "        avatar : a numpy array containing a 32x32 tile image\n",
    "        row: the starting row\n",
    "        col: the starting column\n",
    "        \"\"\"\n",
    "    \n",
    "        self.name = name\n",
    "        self.state = initial_state\n",
    "        \n",
    "        ## Properties for animation\n",
    "        self.supermarket = supermarket\n",
    "        self.avatar = supermarket.get_tile(avatar_id) \n",
    "        self.row = row\n",
    "        self.col = col\n",
    "\n",
    "    \n",
    "    def __repr__(self):\n",
    "        return f'<Customer {self.name} in {self.state} {id(self)}>'\n",
    "\n",
    "    def next_state(self, probs_dict):\n",
    "        '''\n",
    "        Propagates the customer to the next state.\n",
    "        Returns nothing.\n",
    "        '''\n",
    "        \n",
    "        probs_arr = {}\n",
    "        \n",
    "        for key in probs_dict.keys():\n",
    "            probs_arr[key] = list(probs_dict[key].values())\n",
    "           \n",
    "        next_location_choices = list(probs_dict[self.state].keys())\n",
    "                \n",
    "        probability_weights = probs_arr[self.state]\n",
    "                \n",
    "        self.state = random.choices(next_location_choices, weights=probability_weights)[0]\n",
    "        return self.state\n",
    "    \n",
    "      \n",
    "    def draw(self, frame):\n",
    "\n",
    "        y = self.row * TILE_SIZE\n",
    "        x = self.col * TILE_SIZE\n",
    "\n",
    "        one = y + self.avatar.shape[0]\n",
    "        two = x + self.avatar.shape[1]\n",
    "\n",
    "        frame[y:one, x:two] = self.avatar\n",
    "\n",
    "        return frame\n",
    "    \n",
    "    def move(self, location):\n",
    "        assert(type(location) is tuple)\n",
    "        new_row = location[0]\n",
    "        new_col = location[1]\n",
    "\n",
    "        if self.supermarket.contents[new_row][new_col] == '.':\n",
    "            self.col = new_col\n",
    "            self.row = new_row"
   ]
  },
  {
   "cell_type": "code",
   "execution_count": 25,
   "metadata": {},
   "outputs": [],
   "source": [
    "class Sections:\n",
    "    \n",
    "    def __init__(self, dairy, drinks, spices, fruit, checkout):\n",
    "        assert type(dairy) is list\n",
    "        assert type(checkout) is list\n",
    "        assert type(drinks) is list\n",
    "        assert type(spices) is list\n",
    "        assert type(fruit) is list\n",
    "        \n",
    "        self.dairy = dairy\n",
    "        self.drinks = drinks\n",
    "        self.spices = spices\n",
    "        self.fruit = fruit\n",
    "        self.checkout = checkout"
   ]
  },
  {
   "cell_type": "code",
   "execution_count": 26,
   "metadata": {},
   "outputs": [],
   "source": [
    "\n",
    "class SuperMarket:\n",
    "    \n",
    "    def __init__(self, name, transition_matrix, map, sections):\n",
    "        self.name = name\n",
    "        self.map = map\n",
    "        \n",
    "        assert name != None, 'The name should have a value'\n",
    "        assert transition_matrix != None, 'There should be a transition_matrix on construction'\n",
    "        assert sections != None, 'There should be a section on construction'\n",
    "        \n",
    "        self.customers = []\n",
    "        self.total_visits = 0\n",
    "        \n",
    "        self.transition_matrix = transition_matrix\n",
    "        self.sections = sections\n",
    "        \n",
    "        self.probs_dict = transition_matrix.to_dict(orient='index')\n",
    "        self.probs_arr = {}\n",
    "        \n",
    "        for key in self.probs_dict.keys():\n",
    "            self.probs_arr[key] = list(self.probs_dict[key].values())\n",
    "            \n",
    "    \n",
    "    def __repr__(self):\n",
    "        return f'<SuperMarket {self.name}>'\n",
    "    \n",
    "    \n",
    "    def add_customers(self, new_customers: list):\n",
    "        self.total_visits += 1\n",
    "        self.customers = [*self.customers, *new_customers]\n",
    "        \n",
    "        \n",
    "    def remove_customers(self, customer_arr):\n",
    "        for customer in customer_arr:\n",
    "            self.customers.remove(customer)\n",
    "        \n",
    "        \n",
    "    def tick_minute(self):\n",
    "        current_status = [ ]\n",
    "        \n",
    "        for customer in self.customers:\n",
    "            \n",
    "            new_customer_state = customer.next_state(self.probs_dict)\n",
    "            \n",
    "            if new_customer_state == 'exit':\n",
    "                # print('Removing customer with state', new_customer_state)\n",
    "                self.remove_customers([customer])\n",
    "                \n",
    "            current_status = [*current_status, { 'id': customer.name, 'state': new_customer_state }]\n",
    "                \n",
    "        return current_status"
   ]
  },
  {
   "cell_type": "code",
   "execution_count": 27,
   "metadata": {},
   "outputs": [
    {
     "name": "stderr",
     "output_type": "stream",
     "text": [
      "[ WARN:0@69.436] global /Users/runner/work/opencv-python/opencv-python/opencv/modules/imgcodecs/src/loadsave.cpp (239) findDecoder imread_('<built-in function dir>/tiles.png'): can't open/read file: check file path/integrity\n"
     ]
    }
   ],
   "source": [
    "from faker import Faker\n",
    "from tiles_skeleton import SupermarketMap, MARKET\n",
    "import cv2\n",
    "\n",
    "faker = Faker()\n",
    "\n",
    "time_simulation_in_minutes = 30\n",
    "max_customers = 10\n",
    "\n",
    "background = np.zeros((500, 700, 3), np.uint8)\n",
    "tiles = cv2.imread(f\"{dir}/tiles.png\")\n",
    "\n",
    "sections = Sections(\n",
    "    dairy=[],\n",
    "    spices=[],\n",
    "    drinks=[],\n",
    "    fruit=[],\n",
    "    checkout=[(4, 8) , (8, 8) , (12, 8)]\n",
    ")\n",
    "\n",
    "\n"
   ]
  },
  {
   "cell_type": "code",
   "execution_count": 28,
   "metadata": {},
   "outputs": [
    {
     "ename": "TypeError",
     "evalue": "'NoneType' object is not subscriptable",
     "output_type": "error",
     "traceback": [
      "\u001b[0;31m---------------------------------------------------------------------------\u001b[0m",
      "\u001b[0;31mTypeError\u001b[0m                                 Traceback (most recent call last)",
      "\u001b[0;32m/var/folders/2d/jjks8mqd6wj1vm8dxd7jbnl80000gn/T/ipykernel_22895/758791553.py\u001b[0m in \u001b[0;36m<module>\u001b[0;34m\u001b[0m\n\u001b[0;32m----> 1\u001b[0;31m \u001b[0msupermarket_map\u001b[0m \u001b[0;34m=\u001b[0m \u001b[0mSupermarketMap\u001b[0m\u001b[0;34m(\u001b[0m\u001b[0mMARKET\u001b[0m\u001b[0;34m,\u001b[0m \u001b[0mtiles\u001b[0m\u001b[0;34m)\u001b[0m\u001b[0;34m\u001b[0m\u001b[0;34m\u001b[0m\u001b[0m\n\u001b[0m",
      "\u001b[0;32m~/Desktop/spiced_2022_data_science_course/markov-cane-student-code/week_8/project/tiles_skeleton.py\u001b[0m in \u001b[0;36m__init__\u001b[0;34m(self, layout, tiles)\u001b[0m\n\u001b[1;32m     40\u001b[0m             \u001b[0;34m(\u001b[0m\u001b[0mself\u001b[0m\u001b[0;34m.\u001b[0m\u001b[0mnrows\u001b[0m\u001b[0;34m*\u001b[0m\u001b[0mTILE_SIZE\u001b[0m\u001b[0;34m,\u001b[0m \u001b[0mself\u001b[0m\u001b[0;34m.\u001b[0m\u001b[0mncols\u001b[0m\u001b[0;34m*\u001b[0m\u001b[0mTILE_SIZE\u001b[0m\u001b[0;34m,\u001b[0m \u001b[0;36m3\u001b[0m\u001b[0;34m)\u001b[0m\u001b[0;34m,\u001b[0m \u001b[0mdtype\u001b[0m\u001b[0;34m=\u001b[0m\u001b[0mnp\u001b[0m\u001b[0;34m.\u001b[0m\u001b[0muint8\u001b[0m\u001b[0;34m\u001b[0m\u001b[0;34m\u001b[0m\u001b[0m\n\u001b[1;32m     41\u001b[0m         )\n\u001b[0;32m---> 42\u001b[0;31m         \u001b[0mself\u001b[0m\u001b[0;34m.\u001b[0m\u001b[0mprepare_map\u001b[0m\u001b[0;34m(\u001b[0m\u001b[0;34m)\u001b[0m\u001b[0;34m\u001b[0m\u001b[0;34m\u001b[0m\u001b[0m\n\u001b[0m\u001b[1;32m     43\u001b[0m \u001b[0;34m\u001b[0m\u001b[0m\n\u001b[1;32m     44\u001b[0m     \u001b[0;32mdef\u001b[0m \u001b[0mextract_tile\u001b[0m\u001b[0;34m(\u001b[0m\u001b[0mself\u001b[0m\u001b[0;34m,\u001b[0m \u001b[0mrow\u001b[0m\u001b[0;34m,\u001b[0m \u001b[0mcol\u001b[0m\u001b[0;34m)\u001b[0m\u001b[0;34m:\u001b[0m\u001b[0;34m\u001b[0m\u001b[0;34m\u001b[0m\u001b[0m\n",
      "\u001b[0;32m~/Desktop/spiced_2022_data_science_course/markov-cane-student-code/week_8/project/tiles_skeleton.py\u001b[0m in \u001b[0;36mprepare_map\u001b[0;34m(self)\u001b[0m\n\u001b[1;32m    127\u001b[0m \u001b[0;34m\u001b[0m\u001b[0m\n\u001b[1;32m    128\u001b[0m     \u001b[0;32mdef\u001b[0m \u001b[0mprepare_map\u001b[0m\u001b[0;34m(\u001b[0m\u001b[0mself\u001b[0m\u001b[0;34m)\u001b[0m\u001b[0;34m:\u001b[0m\u001b[0;34m\u001b[0m\u001b[0;34m\u001b[0m\u001b[0m\n\u001b[0;32m--> 129\u001b[0;31m         \u001b[0;34m\"\"\"prepares the entire image as a big numpy array\"\"\"\u001b[0m\u001b[0;34m\u001b[0m\u001b[0;34m\u001b[0m\u001b[0m\n\u001b[0m\u001b[1;32m    130\u001b[0m         \u001b[0;32mfor\u001b[0m \u001b[0mrow\u001b[0m\u001b[0;34m,\u001b[0m \u001b[0mline\u001b[0m \u001b[0;32min\u001b[0m \u001b[0menumerate\u001b[0m\u001b[0;34m(\u001b[0m\u001b[0mself\u001b[0m\u001b[0;34m.\u001b[0m\u001b[0mcontents\u001b[0m\u001b[0;34m)\u001b[0m\u001b[0;34m:\u001b[0m\u001b[0;34m\u001b[0m\u001b[0;34m\u001b[0m\u001b[0m\n\u001b[1;32m    131\u001b[0m             \u001b[0;31m# print('row', row, 'line', line)\u001b[0m\u001b[0;34m\u001b[0m\u001b[0;34m\u001b[0m\u001b[0;34m\u001b[0m\u001b[0m\n",
      "\u001b[0;32m~/Desktop/spiced_2022_data_science_course/markov-cane-student-code/week_8/project/tiles_skeleton.py\u001b[0m in \u001b[0;36mget_tile\u001b[0;34m(self, char)\u001b[0m\n\u001b[1;32m     52\u001b[0m \u001b[0;34m\u001b[0m\u001b[0m\n\u001b[1;32m     53\u001b[0m         \u001b[0;32mreturn\u001b[0m \u001b[0mself\u001b[0m\u001b[0;34m.\u001b[0m\u001b[0mtiles\u001b[0m\u001b[0;34m[\u001b[0m\u001b[0my\u001b[0m\u001b[0;34m:\u001b[0m\u001b[0my\u001b[0m\u001b[0;34m+\u001b[0m\u001b[0mTILE_SIZE\u001b[0m\u001b[0;34m,\u001b[0m \u001b[0mx\u001b[0m\u001b[0;34m:\u001b[0m\u001b[0mx\u001b[0m\u001b[0;34m+\u001b[0m\u001b[0mTILE_SIZE\u001b[0m\u001b[0;34m]\u001b[0m\u001b[0;34m\u001b[0m\u001b[0;34m\u001b[0m\u001b[0m\n\u001b[0;32m---> 54\u001b[0;31m \u001b[0;34m\u001b[0m\u001b[0m\n\u001b[0m\u001b[1;32m     55\u001b[0m \u001b[0;34m\u001b[0m\u001b[0m\n\u001b[1;32m     56\u001b[0m     \u001b[0;32mdef\u001b[0m \u001b[0mget_tile\u001b[0m\u001b[0;34m(\u001b[0m\u001b[0mself\u001b[0m\u001b[0;34m,\u001b[0m \u001b[0mchar\u001b[0m\u001b[0;34m)\u001b[0m\u001b[0;34m:\u001b[0m\u001b[0;34m\u001b[0m\u001b[0;34m\u001b[0m\u001b[0m\n",
      "\u001b[0;32m~/Desktop/spiced_2022_data_science_course/markov-cane-student-code/week_8/project/tiles_skeleton.py\u001b[0m in \u001b[0;36mextract_tile\u001b[0;34m(self, row, col)\u001b[0m\n\u001b[1;32m     46\u001b[0m         \u001b[0my\u001b[0m \u001b[0;34m=\u001b[0m \u001b[0mrow\u001b[0m\u001b[0;34m*\u001b[0m\u001b[0mTILE_SIZE\u001b[0m\u001b[0;34m\u001b[0m\u001b[0;34m\u001b[0m\u001b[0m\n\u001b[1;32m     47\u001b[0m         \u001b[0mx\u001b[0m \u001b[0;34m=\u001b[0m \u001b[0mcol\u001b[0m\u001b[0;34m*\u001b[0m\u001b[0mTILE_SIZE\u001b[0m\u001b[0;34m\u001b[0m\u001b[0;34m\u001b[0m\u001b[0m\n\u001b[0;32m---> 48\u001b[0;31m \u001b[0;34m\u001b[0m\u001b[0m\n\u001b[0m\u001b[1;32m     49\u001b[0m         \u001b[0mprint\u001b[0m\u001b[0;34m(\u001b[0m\u001b[0;34m'y'\u001b[0m \u001b[0;34m,\u001b[0m \u001b[0my\u001b[0m\u001b[0;34m)\u001b[0m\u001b[0;34m\u001b[0m\u001b[0;34m\u001b[0m\u001b[0m\n\u001b[1;32m     50\u001b[0m \u001b[0;34m\u001b[0m\u001b[0m\n",
      "\u001b[0;31mTypeError\u001b[0m: 'NoneType' object is not subscriptable"
     ]
    }
   ],
   "source": [
    "supermarket_map = SupermarketMap(MARKET, tiles)"
   ]
  },
  {
   "cell_type": "code",
   "execution_count": 8,
   "metadata": {},
   "outputs": [
    {
     "ename": "NameError",
     "evalue": "name 'SuperMarket' is not defined",
     "output_type": "error",
     "traceback": [
      "\u001b[0;31m---------------------------------------------------------------------------\u001b[0m",
      "\u001b[0;31mNameError\u001b[0m                                 Traceback (most recent call last)",
      "\u001b[0;32m/var/folders/2d/jjks8mqd6wj1vm8dxd7jbnl80000gn/T/ipykernel_1371/1896771819.py\u001b[0m in \u001b[0;36m<module>\u001b[0;34m\u001b[0m\n\u001b[0;32m----> 1\u001b[0;31m \u001b[0msupermarket\u001b[0m \u001b[0;34m=\u001b[0m \u001b[0mSuperMarket\u001b[0m\u001b[0;34m(\u001b[0m\u001b[0;34m'REWE'\u001b[0m\u001b[0;34m,\u001b[0m \u001b[0mP\u001b[0m\u001b[0;34m,\u001b[0m \u001b[0msuper_market_map\u001b[0m\u001b[0;34m,\u001b[0m \u001b[0msections\u001b[0m\u001b[0;34m)\u001b[0m\u001b[0;34m\u001b[0m\u001b[0;34m\u001b[0m\u001b[0m\n\u001b[0m",
      "\u001b[0;31mNameError\u001b[0m: name 'SuperMarket' is not defined"
     ]
    }
   ],
   "source": [
    "supermarket = SuperMarket('REWE', P, super_market_map, sections)\n"
   ]
  },
  {
   "cell_type": "code",
   "execution_count": null,
   "metadata": {},
   "outputs": [],
   "source": [
    "\n",
    "\n",
    "for minute in range(0, time_simulation_in_minutes):\n",
    "    \n",
    "    total_visits = supermarket.total_visits\n",
    "    \n",
    "    supermarket.add_customers([  \n",
    "            Customer(str(f'{faker.name()} ID:{i}'), supermarket.map, '1')                     \\\n",
    "            for i \\\n",
    "                in range(\n",
    "                        total_visits,\n",
    "                        random.randint(\n",
    "                                total_visits + 1 ,\n",
    "                                total_visits + 1 + max_customers \n",
    "                            )\n",
    "                    )\n",
    "        ])\n",
    "\n",
    "    customer_states = supermarket.tick_minute()\n",
    "    # print(f'Minute{minute} \\n{customer_states}\\n')\n",
    "    \n",
    "    while True:\n",
    "        frame = background.copy()\n",
    "        supermarket.map.draw(frame)\n",
    "\n",
    "        # https://www.ascii-code.com/\n",
    "        key = cv2.waitKey(1)\n",
    "        \n",
    "        if key == 113: # 'q' key\n",
    "            break\n",
    "\n",
    "        cv2.imshow(\"frame\", frame)\n",
    "\n",
    "\n",
    "    cv2.destroyAllWindows()\n",
    "\n",
    "    # market.write_image(\"supermarket.png\")\n"
   ]
  },
  {
   "cell_type": "code",
   "execution_count": 94,
   "metadata": {},
   "outputs": [
    {
     "name": "stdout",
     "output_type": "stream",
     "text": [
      "Collecting opencv-python\n",
      "  Downloading opencv_python-4.6.0.66-cp36-abi3-macosx_10_15_x86_64.whl (46.4 MB)\n",
      "\u001b[2K     \u001b[90m━━━━━━━━━━━━━━━━━━━━━━━━━━━━━━━━━━━━━━━━\u001b[0m \u001b[32m46.4/46.4 MB\u001b[0m \u001b[31m12.7 MB/s\u001b[0m eta \u001b[36m0:00:00\u001b[0m00:01\u001b[0m00:01\u001b[0m\n",
      "\u001b[?25hRequirement already satisfied: numpy>=1.14.5 in /Users/earyzhe/opt/anaconda3/lib/python3.7/site-packages (from opencv-python) (1.21.5)\n",
      "Installing collected packages: opencv-python\n",
      "Successfully installed opencv-python-4.6.0.66\n",
      "\n",
      "\u001b[1m[\u001b[0m\u001b[34;49mnotice\u001b[0m\u001b[1;39;49m]\u001b[0m\u001b[39;49m A new release of pip available: \u001b[0m\u001b[31;49m22.2.2\u001b[0m\u001b[39;49m -> \u001b[0m\u001b[32;49m22.3.1\u001b[0m\n",
      "\u001b[1m[\u001b[0m\u001b[34;49mnotice\u001b[0m\u001b[1;39;49m]\u001b[0m\u001b[39;49m To update, run: \u001b[0m\u001b[32;49mpip install --upgrade pip\u001b[0m\n"
     ]
    }
   ],
   "source": [
    "# !pip install opencv-python"
   ]
  },
  {
   "cell_type": "code",
   "execution_count": null,
   "metadata": {},
   "outputs": [],
   "source": []
  },
  {
   "cell_type": "code",
   "execution_count": null,
   "metadata": {},
   "outputs": [],
   "source": []
  }
 ],
 "metadata": {
  "kernelspec": {
   "display_name": "Python 3.7.4 ('base')",
   "language": "python",
   "name": "python3"
  },
  "language_info": {
   "codemirror_mode": {
    "name": "ipython",
    "version": 3
   },
   "file_extension": ".py",
   "mimetype": "text/x-python",
   "name": "python",
   "nbconvert_exporter": "python",
   "pygments_lexer": "ipython3",
   "version": "3.7.4"
  },
  "orig_nbformat": 4,
  "vscode": {
   "interpreter": {
    "hash": "e6c8ece07e9164d2a31687d29b107d2624b25817155fdef291395eab91afaa05"
   }
  }
 },
 "nbformat": 4,
 "nbformat_minor": 2
}
